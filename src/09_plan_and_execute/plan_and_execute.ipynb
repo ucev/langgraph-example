{
 "cells": [
  {
   "cell_type": "markdown",
   "metadata": {},
   "source": [
    "评：`PlanAndExecute`这个范式，感觉和上一章的`HierarchicalAgentTeam`结合起来，可以发挥很大的威力。我之前对`HierarchicalAgentTeam`范式提示词的调试，用`PlanAndExecute`可以很轻松解决"
   ]
  },
  {
   "cell_type": "code",
   "execution_count": 1,
   "metadata": {},
   "outputs": [
    {
     "data": {
      "text/plain": [
       "[Module: null prototype] {  }"
      ]
     },
     "execution_count": 1,
     "metadata": {},
     "output_type": "execute_result"
    }
   ],
   "source": [
    "import './../../loadenv.mjs'"
   ]
  },
  {
   "cell_type": "markdown",
   "metadata": {},
   "source": [
    "# Define the State"
   ]
  },
  {
   "cell_type": "code",
   "execution_count": 2,
   "metadata": {},
   "outputs": [],
   "source": [
    "import { Annotation } from '@langchain/langgraph'\n",
    "\n",
    "const PlanExecuteState = Annotation.Root({\n",
    "    input: Annotation<string>({\n",
    "        reducer: (x, y) => y ?? x ?? '',\n",
    "    }),\n",
    "    plan: Annotation<string[]>({\n",
    "        reducer: (x, y) => y ?? x ?? [],\n",
    "    }),\n",
    "    pastSteps: Annotation<[string, string][]>({\n",
    "        reducer: (x, y) => x.concat(y),\n",
    "    }),\n",
    "    response: Annotation<string>({\n",
    "        reducer: (x, y) => y ?? x,\n",
    "    }),\n",
    "})"
   ]
  },
  {
   "cell_type": "markdown",
   "metadata": {},
   "source": [
    "# Define Tools"
   ]
  },
  {
   "cell_type": "code",
   "execution_count": 3,
   "metadata": {},
   "outputs": [],
   "source": [
    "import { TavilySearchResults } from '@langchain/community/tools/tavily_search'\n",
    "\n",
    "const tools = [new TavilySearchResults({ maxResults: 3 })]"
   ]
  },
  {
   "cell_type": "markdown",
   "metadata": {},
   "source": [
    "# Define out Execution Agent"
   ]
  },
  {
   "cell_type": "code",
   "execution_count": 4,
   "metadata": {},
   "outputs": [],
   "source": [
    "import { getModel } from './../../utils.mjs'\n",
    "import { createReactAgent } from '@langchain/langgraph/prebuilt'\n",
    "\n",
    "const agentExecutor = createReactAgent({\n",
    "    llm: getModel(),\n",
    "    tools,\n",
    "})"
   ]
  },
  {
   "cell_type": "code",
   "execution_count": 5,
   "metadata": {},
   "outputs": [],
   "source": [
    "import { HumanMessage } from '@langchain/core/messages'\n",
    "\n",
    "// await agentExecutor.invoke({\n",
    "//     messages: [\n",
    "//         new HumanMessage('who is the winner of the us open')\n",
    "//     ]\n",
    "// })"
   ]
  },
  {
   "cell_type": "markdown",
   "metadata": {},
   "source": [
    "# Planning Step"
   ]
  },
  {
   "cell_type": "code",
   "execution_count": 6,
   "metadata": {},
   "outputs": [],
   "source": [
    "import { z } from 'zod'\n",
    "import { zodToJsonSchema } from 'zod-to-json-schema'\n",
    "\n",
    "const plan = zodToJsonSchema(\n",
    "    z.object({\n",
    "        steps: z\n",
    "            .array(z.string())\n",
    "            .describe('different steps to follow, should be in sorted order')\n",
    "    })\n",
    ")\n",
    "const planFunction = {\n",
    "    name: 'plan',\n",
    "    description: 'This tool is used to plan the steps to follow',\n",
    "    parameters: plan\n",
    "}\n",
    "\n",
    "const planTool = {\n",
    "    type: 'function',\n",
    "    function: planFunction,\n",
    "}"
   ]
  },
  {
   "cell_type": "code",
   "execution_count": 7,
   "metadata": {},
   "outputs": [],
   "source": [
    "import { ChatPromptTemplate } from '@langchain/core/prompts'\n",
    "\n",
    "const plannerPrompt = ChatPromptTemplate.fromTemplate(\n",
    "    `For the given objective, come up with a simple step by step plan. \\\n",
    "This plan should involve individual tasks, that if executed correctly will yield the correct answer. Do not add any superfluous steps. \\\n",
    "The result of the final step should be the final answer. Make sure that each step has all the information needed - do not skip steps.\n",
    "\n",
    "{objective}`\n",
    ")\n",
    "\n",
    "const model = getModel().withStructuredOutput(planFunction)\n",
    "\n",
    "const planner = plannerPrompt.pipe(model)"
   ]
  },
  {
   "cell_type": "code",
   "execution_count": 8,
   "metadata": {},
   "outputs": [],
   "source": [
    "// await planner.invoke({\n",
    "//     objective: 'What is the hometown of the current Australia open winner'\n",
    "// })"
   ]
  },
  {
   "cell_type": "markdown",
   "metadata": {},
   "source": [
    "# Re-Plan Step"
   ]
  },
  {
   "cell_type": "code",
   "execution_count": 9,
   "metadata": {},
   "outputs": [],
   "source": [
    "import { JsonOutputToolsParser } from '@langchain/core/output_parsers/openai_tools'\n",
    "\n",
    "const response = zodToJsonSchema(\n",
    "    z.object({\n",
    "        response: z.string().describe('Response to user.')\n",
    "    })\n",
    ")\n",
    "\n",
    "const responseTool = {\n",
    "    type: 'function',\n",
    "    function: {\n",
    "        name: 'response',\n",
    "        description: 'Response to user.',\n",
    "        parameters: response,\n",
    "    }\n",
    "}\n",
    "\n",
    "const replannerPrompt = ChatPromptTemplate.fromTemplate(\n",
    "`For the given objective, come up with a simple step by step plan. \n",
    "This plan should involve individual tasks, that if executed correctly will yield the correct answer. Do not add any superfluous steps.\n",
    "The result of the final step should be the final answer. Make sure that each step has all the information needed - do not skip steps.\n",
    "\n",
    "Your objective was this:\n",
    "{input}\n",
    "\n",
    "Your original plan was this:\n",
    "{plan}\n",
    "\n",
    "You have currently done the follow steps:\n",
    "{pastSteps}\n",
    "\n",
    "Update your plan accordingly. If no more steps are needed and you can return to the user, then respond with that and use the 'response' function.\n",
    "Otherwise, fill out the plan.  \n",
    "Only add steps to the plan that still NEED to be done. Do not return previously done steps as part of the plan.`,\n",
    ")\n",
    "\n",
    "const parser = new JsonOutputToolsParser()\n",
    "const replanner = replannerPrompt\n",
    "    .pipe(\n",
    "        getModel().bindTools([\n",
    "            planTool,\n",
    "            responseTool,\n",
    "        ])\n",
    "    )\n",
    "    .pipe(parser)"
   ]
  },
  {
   "cell_type": "markdown",
   "metadata": {},
   "source": [
    "# Create the Graph"
   ]
  },
  {
   "cell_type": "code",
   "execution_count": 10,
   "metadata": {},
   "outputs": [],
   "source": [
    "import { END, START, StateGraph } from '@langchain/langgraph'\n",
    "import { RunnableConfig } from '@langchain/core/runnables'\n",
    "\n",
    "async function executeStep(\n",
    "    state: typeof PlanExecuteState.State,\n",
    "    config?: RunnableConfig,\n",
    "): Promise<Partial<typeof PlanExecuteState.State>> {\n",
    "    const task = state.plan[0]\n",
    "    const input = {\n",
    "        messages: [new HumanMessage(task)],\n",
    "    }\n",
    "    const { messages } = await agentExecutor.invoke(input, config)\n",
    "    return {\n",
    "        pastSteps: [[task, messages[messages.length - 1].content.toString()]],\n",
    "        plan: state.plan.slice(1),\n",
    "    }\n",
    "}\n",
    "\n",
    "async function planStep(\n",
    "    state: typeof PlanExecuteState.State,\n",
    "): Promise<Partial<typeof PlanExecuteState.State>> {\n",
    "    const plan = await planner.invoke({ objective: state.input })\n",
    "    return {\n",
    "        plan: plan.steps,\n",
    "    }\n",
    "}\n",
    "\n",
    "async function replanStep(\n",
    "    state: typeof PlanExecuteState.State,\n",
    "): Promise<Partial<typeof PlanExecuteState.State>> {\n",
    "    const output: any = await replanner.invoke({\n",
    "        input: state.input,\n",
    "        plan: state.plan.join('\\n'),\n",
    "        pastSteps: state.pastSteps\n",
    "            .map(([step, result]) => `${step}: ${result}`)\n",
    "            .join('\\n')\n",
    "    })\n",
    "    const toolCall = output[0]\n",
    "\n",
    "    if (toolCall.type === 'response') {\n",
    "        return {\n",
    "            response: toolCall.args?.response,\n",
    "        }\n",
    "    }\n",
    "    return {\n",
    "        plan: toolCall.args?.steps,\n",
    "    }\n",
    "}\n",
    "\n",
    "function shouldEnd(state: typeof PlanExecuteState.State) {\n",
    "    return state.response ? 'true' : 'false'\n",
    "}\n",
    "\n",
    "const workflow = new StateGraph(PlanExecuteState)\n",
    "    .addNode('planner', planStep)\n",
    "    .addNode('agent', executeStep)\n",
    "    .addNode('replan', replanStep)\n",
    "    .addEdge(START, 'planner')\n",
    "    .addEdge('planner', 'agent')\n",
    "    .addEdge('agent', 'replan')\n",
    "    .addConditionalEdges('replan', shouldEnd, {\n",
    "        true: END,\n",
    "        false: 'agent',\n",
    "    })\n",
    "const app = workflow.compile()"
   ]
  },
  {
   "cell_type": "code",
   "execution_count": 11,
   "metadata": {},
   "outputs": [
    {
     "data": {
      "image/jpeg": "[encoded data removed]"
     },
     "execution_count": 11,
     "metadata": {},
     "output_type": "execute_result"
    }
   ],
   "source": [
    "import { printGraph } from './../../utils.mjs'\n",
    "\n",
    "await printGraph(app.getGraph())"
   ]
  },
  {
   "cell_type": "code",
   "execution_count": 12,
   "metadata": {},
   "outputs": [
    {
     "name": "stdout",
     "output_type": "stream",
     "text": [
      "{\n",
      "  planner: {\n",
      "    plan: [\n",
      "      \"Determine the winner of the 2024 Australian Open.\",\n",
      "      \"Find the hometown information of the 2024 Australian Open winner.\"\n",
      "    ]\n",
      "  }\n",
      "}\n",
      "{\n",
      "  agent: {\n",
      "    pastSteps: [\n",
      "      [\n",
      "        \"Determine the winner of the 2024 Australian Open.\",\n",
      "        \"The winners of the 2024 Australian Open are as follows:\\n\" +\n",
      "          \"- **Men's Singles**: Jannick Sinner from Italy. He defeated Daniil Medvedev from Russia to win his first Grand Slam title. He also became the 27th different men’s singles winner in Melbourne since the Open era began in 1969 and the first Italian to achieve this feat.\\n\" +\n",
      "          \" - **Women's Singles**: Information was not in the provided search results, you may need to check other sources.\\n\" +\n",
      "          \" - **Men's Doubles**: Rohan Bopanna and Matthew Ebden. They defeated Simone Bolelli and Andrea Vavassori in the final with a score of 7–6(7–0), 7–5.\\n\" +\n",
      "          \" - **Women's Doubles**: Hsieh Su-wei and Elise Mertens. They defeated Lyudmyla Kichenok and Jeļena Ostapenko in the final with a score of 6–1, 7–5.\\n\" +\n",
      "          \" - **Mixed Doubles**: Hsieh Su-wei and Jan Zieliński. They overcame Desirae Krawczyk and Neal Skupski in the final with a score of 6–7(5–7), 6–4, [11–9].  \"\n",
      "      ]\n",
      "    ],\n",
      "    plan: [\n",
      "      \"Find the hometown information of the 2024 Australian Open winner.\"\n",
      "    ]\n",
      "  }\n",
      "}\n",
      "{\n",
      "  replan: {\n",
      "    plan: [\n",
      "      \"Find the hometown of Jannick Sinner from Italy.\",\n",
      "      \"Call response function to return the result of the previous step to the user.\"\n",
      "    ]\n",
      "  }\n",
      "}\n",
      "{\n",
      "  agent: {\n",
      "    pastSteps: [\n",
      "      [\n",
      "        \"Find the hometown of Jannick Sinner from Italy.\",\n",
      "        \"Jannick Sinner is from Sexten, a town in northern Italy. Sexten is located in the Dolomites. He returned to this hometown to celebrate his ascent to World No. 1 in the PIF ATP Rankings. Additionally, he was born in San Candido, Italy.  \"\n",
      "      ]\n",
      "    ],\n",
      "    plan: [\n",
      "      \"Call response function to return the result of the previous step to the user.\"\n",
      "    ]\n",
      "  }\n",
      "}\n",
      "{\n",
      "  replan: {\n",
      "    response: \"The winner of the 2024 Australian Open's men's singles is Jannick Sinner. His hometown is Sexten, a town in northern Italy. Information regarding the winner of the 2024 Australian Open's women's singles was not available in the provided search results.\"\n",
      "  }\n",
      "}\n"
     ]
    },
    {
     "ename": "",
     "evalue": "",
     "output_type": "error",
     "traceback": [
      "\u001b[1;31mThe Kernel crashed while executing code in the current cell or a previous cell. \n",
      "\u001b[1;31mPlease review the code in the cell(s) to identify a possible cause of the failure. \n",
      "\u001b[1;31mClick <a href='https://aka.ms/vscodeJupyterKernelCrash'>here</a> for more info. \n",
      "\u001b[1;31mView Jupyter <a href='command:jupyter.viewOutput'>log</a> for further details."
     ]
    }
   ],
   "source": [
    "const config = { recursionLimit: 50 }\n",
    "const inputs = {\n",
    "    input: 'what is the hometown of the 2024 Australian open winner?',\n",
    "}\n",
    "for await (const event of await app.stream(inputs, config)) {\n",
    "    console.log(event)\n",
    "}"
   ]
  }
 ],
 "metadata": {
  "kernelspec": {
   "display_name": "Deno",
   "language": "typescript",
   "name": "deno"
  },
  "language_info": {
   "codemirror_mode": "typescript",
   "file_extension": ".ts",
   "mimetype": "text/x.typescript",
   "name": "typescript",
   "nbconvert_exporter": "script",
   "pygments_lexer": "typescript",
   "version": "5.6.2"
  }
 },
 "nbformat": 4,
 "nbformat_minor": 2
}
