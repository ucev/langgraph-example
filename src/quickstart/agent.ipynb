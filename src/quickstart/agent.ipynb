{
 "cells": [
  {
   "cell_type": "code",
   "execution_count": null,
   "metadata": {},
   "outputs": [],
   "source": [
    "import './../../loadenv.mjs'"
   ]
  },
  {
   "cell_type": "code",
   "execution_count": null,
   "metadata": {},
   "outputs": [],
   "source": [
    "import { TavilySearchResults } from '@langchain/community/tools/tavily_search'\n",
    "import { getModel } from '../../utils.mjs'\n",
    "import { MemorySaver } from '@langchain/langgraph'\n",
    "import { HumanMessage } from '@langchain/core/messages'\n",
    "import { createReactAgent } from '@langchain/langgraph/prebuilt'\n",
    "\n",
    "const agentTools = [\n",
    "    new TavilySearchResults({ maxResults: 3 }),\n",
    "]\n",
    "const agentModel = getModel()\n",
    "\n",
    "const agentCheckpointer = new MemorySaver()\n",
    "const agent = createReactAgent({\n",
    "    llm: agentModel,\n",
    "    tools: agentTools,\n",
    "    checkpointSaver: agentCheckpointer,\n",
    "})\n",
    "\n",
    "const agentFinalState = await agent.invoke(\n",
    "    {\n",
    "        messages: [new HumanMessage(\"what is the current weather in sf\")],\n",
    "    },\n",
    "    {\n",
    "        configurable: {\n",
    "            thread_id: '42',\n",
    "        },\n",
    "    },\n",
    ")\n",
    "console.log(agentFinalState.messages[agentFinalState.messages.length - 1].content)\n",
    "\n",
    "const agentNextState = await agent.invoke(\n",
    "    {\n",
    "        messages: [new HumanMessage(\"what about ny\")],\n",
    "    },\n",
    "    {\n",
    "        configurable: {\n",
    "            thread_id: '42',\n",
    "        },\n",
    "    },\n",
    ")\n",
    "console.log(agentNextState.messages[agentNextState.messages.length - 1].content)"
   ]
  },
  {
   "cell_type": "code",
   "execution_count": null,
   "metadata": {},
   "outputs": [],
   "source": [
    "import { printGraph } from './../../utils.mjs'\n",
    "await printGraph(agent.getGraph())"
   ]
  }
 ],
 "metadata": {
  "kernelspec": {
   "display_name": "Deno",
   "language": "typescript",
   "name": "deno"
  },
  "language_info": {
   "codemirror_mode": "typescript",
   "file_extension": ".ts",
   "mimetype": "text/x.typescript",
   "name": "typescript",
   "nbconvert_exporter": "script",
   "pygments_lexer": "typescript",
   "version": "5.6.2"
  }
 },
 "nbformat": 4,
 "nbformat_minor": 2
}
