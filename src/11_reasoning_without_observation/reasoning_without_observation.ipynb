{
 "cells": [
  {
   "cell_type": "markdown",
   "metadata": {},
   "source": [
    "评：这个方法的核心组成\n",
    "1. Planner\n",
    "2. Executor\n",
    "3. Resolver\n",
    "\n",
    "![img](./arch.jpeg)\n",
    "\n",
    "`Planner`将任务拆分成一个个可以连续执行的子任务，每个子任务都是\n",
    ">\n",
    "> Plan: reasoning\n",
    ">\n",
    "> #E1 = Tool[argument for tool]\n",
    ">\n",
    "的格式。然后将Planner的输出转换成列表`Array<[plan, stepName, tool, toolInput]>`。\n",
    "\n",
    "`Executor`一次执行上面的列表，同时维护一个results纪录。 `Executor`首先会从`results`中取出键值对，对`toolInput`进行文本替换。然后会将`toolInput`作为输入，执行`tool`，并将`tool`的执行结果放到`results`中。执行完所有的任务后，`Executor`会讲控制权交给`Resolver`，由`Resolver`总结出最终结果并输出。\n",
    "\n",
    "\n",
    "由此可见，`ReWOO`的核心优势在于\n",
    "1. 执行过程清晰，消耗少。一个任务需要执行多少步，在`Planner`阶段就能确定了\n",
    "2. 需要的token少。在tool的执行阶段，只需要toolInput作为输入\n",
    "\n",
    "\n",
    "对比`hierarchical_agent_teams`，`supervisor`可以类比`Planner`，各个`Team`可以类比`Executor`中的`tools`"
   ]
  },
  {
   "cell_type": "code",
   "execution_count": null,
   "metadata": {},
   "outputs": [],
   "source": [
    "import './../../loadenv.mjs'"
   ]
  },
  {
   "cell_type": "code",
   "execution_count": 2,
   "metadata": {},
   "outputs": [],
   "source": [
    "import { Annotation } from '@langchain/langgraph'\n",
    "\n",
    "const GraphState = Annotation.Root({\n",
    "    task: Annotation<string>({\n",
    "        reducer: (x, y) => y ?? x,\n",
    "        default: () => '',\n",
    "    }),\n",
    "    planString: Annotation<string>({\n",
    "        reducer: (x, y) => y ?? x,\n",
    "        default: () => '',\n",
    "    }),\n",
    "    steps: Annotation<string[][]>({\n",
    "        reducer: (x, y) => x.concat(y),\n",
    "        default: () => [],\n",
    "    }),\n",
    "    results: Annotation<Record<string, any>>({\n",
    "        reducer: (x, y) => ({ ...x, ...y }),\n",
    "        default: () => ({}),\n",
    "    }),\n",
    "    result: Annotation<string>({\n",
    "        reducer: (x, y) => y ?? x,\n",
    "        default: () => '',\n",
    "    }),\n",
    "})"
   ]
  },
  {
   "cell_type": "markdown",
   "metadata": {},
   "source": [
    "# Planner"
   ]
  },
  {
   "cell_type": "code",
   "execution_count": 3,
   "metadata": {},
   "outputs": [],
   "source": [
    "import { getModel } from './../../utils.mjs'\n",
    "\n",
    "const model = getModel()"
   ]
  },
  {
   "cell_type": "code",
   "execution_count": 4,
   "metadata": {},
   "outputs": [],
   "source": [
    "import { ChatPromptTemplate } from '@langchain/core/prompts'\n",
    "\n",
    "const template = `For the following task, make plans that can solve the problem step by step. For each plan, indicate which external tool together with tool input to retrieve evidence. You can store the evidence into a variable #E that can be called by later tools. (Plan, #E1, Plan, #E2, Plan, ...)\n",
    "\n",
    "Tools can be one of the following:\n",
    "(1) Google[input]: Worker that searches results from Google. Useful when you need to find short and succinct answers about a specific topic. The input should be a search query.\n",
    "(2) LLM[input]: A pre-trained LLM like yourself. Useful when you need to act with general world knowledge and common sense. Prioritize it when you are confident in solving the problem yourself. Input can be any instruction.\n",
    "\n",
    "For example,\n",
    "Task: Thomas, Toby, and Rebecca worked a total of 157 hours in one week. Thomas worked x hours. Toby worked 10 hours less than twice what Thomas worked, and Rebecca worked 8 hours less than Toby. How many hours did Rebecca work? \n",
    "Plan: Given Thomas worked x hours, translate the problem into algebraic expressions and solve with Wolfram Alpha.\n",
    "#E1 = WolframAlpha[Solve x + (2x - 10) + ((2x - 10) - 8) = 157]\n",
    "Plan: Find out the number of hours Thomas worked.\n",
    "#E2 = LLM[What is x, given #E1]\n",
    "Plan: Calculate the number of hours Rebecca worked.\n",
    "#E3 = Calculator[(2 * #E2 - 10) - 8]\n",
    "\n",
    "Important!\n",
    "Variables/results MUST be referenced using the # symbol!\n",
    "The plan will be executed as a program, so no coreference resolution apart from naive variable replacement is allowed.\n",
    "The ONLY way for steps to share context is by including #E<step> within the arguments of the tool.\n",
    "\n",
    "Begin! \n",
    "Describe your plans with rich details. Each Plan should be followed by only one #E.\n",
    "\n",
    "Task: {task}`\n",
    "\n",
    "const promptTemplate = ChatPromptTemplate.fromMessages([\n",
    "    ['human', template],\n",
    "])\n",
    "\n",
    "const planner = promptTemplate.pipe(model)"
   ]
  },
  {
   "cell_type": "code",
   "execution_count": 5,
   "metadata": {},
   "outputs": [],
   "source": [
    "// const task = 'what is the hometown of the winner of the 2023 australian open?'\n",
    "// await planner.invoke({ task })"
   ]
  },
  {
   "cell_type": "markdown",
   "metadata": {},
   "source": [
    "## Planner Node"
   ]
  },
  {
   "cell_type": "code",
   "execution_count": 6,
   "metadata": {},
   "outputs": [],
   "source": [
    "import { RunnableConfig } from '@langchain/core/runnables'\n",
    "\n",
    "const regexPattern = new RegExp(\n",
    "    \"Plan\\\\s*\\\\d*:\\\\s*([^#]+)\\\\s*(#E\\\\d+)\\\\s*=\\\\s*(\\\\w+)\\\\s*\\\\[([^\\\\]]+)\\\\]\",\n",
    "    \"g\",\n",
    ")\n",
    "\n",
    "async function getPlan(state: typeof GraphState.State, config?: RunnableConfig) {\n",
    "    console.log('---GET PLAN---')\n",
    "    const task = state.task\n",
    "    const result = await planner.invoke({ task }, config)\n",
    "    const matches = result.content.toString().matchAll(regexPattern)\n",
    "    let steps: string[][] = []\n",
    "    for (const match of matches) {\n",
    "        const item = [match[1], match[2], match[3], match[4], match[0]]\n",
    "        if (item.some(i => i === undefined)) {\n",
    "            throw new Error('Invalid match')\n",
    "        }\n",
    "        steps.push(item as string[])\n",
    "    }\n",
    "    return {\n",
    "        steps,\n",
    "        planString: result.content.toString(),\n",
    "    }\n",
    "}"
   ]
  },
  {
   "cell_type": "markdown",
   "metadata": {},
   "source": [
    "# Executor"
   ]
  },
  {
   "cell_type": "code",
   "execution_count": 7,
   "metadata": {},
   "outputs": [],
   "source": [
    "import { TavilySearchResults } from '@langchain/community/tools/tavily_search'\n",
    "\n",
    "const search = new TavilySearchResults()"
   ]
  },
  {
   "cell_type": "code",
   "execution_count": 8,
   "metadata": {},
   "outputs": [],
   "source": [
    "const _getCurrentTask = (state: typeof GraphState.State) => {\n",
    "    console.log('_getCurrentTask, ', state)\n",
    "    if (!state.results) {\n",
    "        return 1\n",
    "    }\n",
    "    if (Object.entries(state.results).length === state.steps.length) {\n",
    "        return null\n",
    "    }\n",
    "    return Object.entries(state.results).length + 1\n",
    "}\n",
    "\n",
    "const _parseResult = (input: unknown) => {\n",
    "    if (typeof input === 'string') {\n",
    "        const parsedInput = JSON.parse(input)\n",
    "        if (Array.isArray(parsedInput) && 'content' in parsedInput[0]) {\n",
    "            return parsedInput.map(({ content }) => content).join('\\n')\n",
    "        }\n",
    "    }\n",
    "    if (input && typeof input === 'object' && 'content' in input) {\n",
    "        return input.content\n",
    "    }\n",
    "    throw new Error('Invalid input received')\n",
    "}\n",
    "\n",
    "async function toolExecution(state: typeof GraphState.State, config?: RunnableConfig) {\n",
    "    console.log('---EXECUTE TOOL---')\n",
    "    const _step = _getCurrentTask(state)\n",
    "    if (_step === null) {\n",
    "        throw new Error('No current task found')\n",
    "    }\n",
    "    const [_, stepName, tool, toolInputTemplate] = state.steps[_step - 1]\n",
    "    let toolInput = toolInputTemplate\n",
    "    const _results = state.results || {}\n",
    "    for (const [k, v] of Object.entries(_results)) {\n",
    "        toolInput = toolInput.replace(k, v)\n",
    "    }\n",
    "    let result\n",
    "    if (tool === 'Google') {\n",
    "        result = await search.invoke(toolInput, config)\n",
    "    } else if (tool === 'LLM') {\n",
    "        result = await model.invoke(toolInput, config)\n",
    "    } else {\n",
    "        throw new Error('Invalid tool specified')\n",
    "    }\n",
    "    _results[stepName] = JSON.stringify(_parseResult(result), null, 2)\n",
    "    return { results: _results }\n",
    "}"
   ]
  },
  {
   "cell_type": "markdown",
   "metadata": {},
   "source": [
    "# Solver "
   ]
  },
  {
   "cell_type": "code",
   "execution_count": 9,
   "metadata": {},
   "outputs": [],
   "source": [
    "const solvePrompt = ChatPromptTemplate.fromTemplate(`Solve the following task or problem. To solve the problem, we have made step-by-step Plan and retrieved corresponding Evidence to each Plan. Use them with caution since long evidence might contain irrelevant information.\n",
    "\n",
    "{plan}\n",
    "\n",
    "Now solve the question or task according to provided Evidence above. Respond with the answer directly with no extra words.\n",
    "\n",
    "Task: {task}\n",
    "Response:`\n",
    ")\n",
    "\n",
    "async function solve(state: typeof GraphState.State, config?: RunnableConfig) {\n",
    "    console.log('---SOLVE---')\n",
    "    let plan = ''\n",
    "    const _results = state.results || {}\n",
    "    for (let [_plan, stepName, tool, toolInput] of state.steps) {\n",
    "        for (const [k, v] of Object.entries(_results)) {\n",
    "            toolInput = toolInput.replace(k, v)\n",
    "        }\n",
    "        plan += `Plan: ${_plan}\\n${stepName} = ${tool}[${toolInput}]\\n`\n",
    "    }\n",
    "    const model = getModel({ temperature: 0 })\n",
    "    const result = await solvePrompt\n",
    "        .pipe(model)\n",
    "        .invoke({ plan, task: state.task }, config)\n",
    "    return {\n",
    "        result: result.content.toString(),\n",
    "    }\n",
    "}\n"
   ]
  },
  {
   "cell_type": "markdown",
   "metadata": {},
   "source": [
    "# Define Graph"
   ]
  },
  {
   "cell_type": "code",
   "execution_count": 10,
   "metadata": {},
   "outputs": [],
   "source": [
    "import { END, START, StateGraph } from '@langchain/langgraph'\n",
    "import { MemorySaver } from '@langchain/langgraph'\n",
    "\n",
    "const _route = (state: typeof GraphState.State) => {\n",
    "    console.log('---ROUTE TASK---')\n",
    "    const _step = _getCurrentTask(state)\n",
    "    if (_step === null) {\n",
    "        return 'solve'\n",
    "    }\n",
    "    return 'tool'\n",
    "}\n",
    "\n",
    "const workflow = new StateGraph(GraphState)\n",
    "    .addNode('plan', getPlan)\n",
    "    .addNode('tool', toolExecution)\n",
    "    .addNode('solve', solve)\n",
    "    .addEdge('plan', 'tool')\n",
    "    .addEdge('solve', END)\n",
    "    .addConditionalEdges('tool', _route)\n",
    "    .addEdge(START, 'plan')\n",
    "\n",
    "const app = workflow.compile({ checkpointer: new MemorySaver() })"
   ]
  },
  {
   "cell_type": "code",
   "execution_count": null,
   "metadata": {},
   "outputs": [],
   "source": [
    "import { printGraph } from './../../utils.mjs'\n",
    "await printGraph(app.getGraph())"
   ]
  },
  {
   "cell_type": "code",
   "execution_count": null,
   "metadata": {},
   "outputs": [],
   "source": [
    "const threadConfig = { configurable: { thread_id: '123' }}\n",
    "let finalResult\n",
    "const stream = await app.stream(\n",
    "    {\n",
    "        task: 'what is the hometown of the winner of then 2023 australian open?',\n",
    "    },\n",
    "    threadConfig,\n",
    ")\n",
    "for await (const item of stream) {\n",
    "    console.log(item)\n",
    "    console.log('-----')\n",
    "    finalResult = item\n",
    "}"
   ]
  },
  {
   "cell_type": "code",
   "execution_count": null,
   "metadata": {},
   "outputs": [],
   "source": [
    "const snapshot = await app.getState(threadConfig)\n",
    "console.log(snapshot.values.result)"
   ]
  }
 ],
 "metadata": {
  "kernelspec": {
   "display_name": "Deno",
   "language": "typescript",
   "name": "deno"
  },
  "language_info": {
   "codemirror_mode": "typescript",
   "file_extension": ".ts",
   "mimetype": "text/x.typescript",
   "name": "typescript",
   "nbconvert_exporter": "script",
   "pygments_lexer": "typescript",
   "version": "5.6.2"
  }
 },
 "nbformat": 4,
 "nbformat_minor": 2
}
