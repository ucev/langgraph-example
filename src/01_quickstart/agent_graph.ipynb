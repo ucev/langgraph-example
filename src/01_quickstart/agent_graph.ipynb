{
 "cells": [
  {
   "cell_type": "code",
   "execution_count": null,
   "metadata": {},
   "outputs": [],
   "source": [
    "import './../../loadenv.mjs'"
   ]
  },
  {
   "cell_type": "code",
   "execution_count": 2,
   "metadata": {},
   "outputs": [],
   "source": [
    "import { getModel } from '../../utils.mjs'\n",
    "import { TavilySearchResults } from '@langchain/community/tools/tavily_search'\n",
    "import { HumanMessage } from '@langchain/core/messages'\n",
    "import { ToolNode } from '@langchain/langgraph/prebuilt'\n",
    "import { StateGraph, MessagesAnnotation } from '@langchain/langgraph'\n",
    "\n",
    "const tools = [\n",
    "    new TavilySearchResults({ maxResults: 3 }),\n",
    "]\n",
    "const toolNode = new ToolNode(tools)\n",
    "\n",
    "const model = getModel().bindTools(tools)\n",
    "\n",
    "function shouldContinue({ messages }: typeof MessagesAnnotation.State) {\n",
    "    const lastMessage = messages[messages.length - 1]\n",
    "\n",
    "    if (lastMessage.additional_kwargs.tool_calls) {\n",
    "        return 'tools'\n",
    "    }\n",
    "    return '__end__'\n",
    "}\n",
    "\n",
    "async function callModel(state: typeof MessagesAnnotation.State) {\n",
    "    const response = await model.invoke(state.messages)\n",
    "\n",
    "    return { messages: [response] }\n",
    "}\n",
    "\n",
    "const workflow = new StateGraph(MessagesAnnotation)\n",
    "    .addNode('agent', callModel)\n",
    "    .addEdge('__start__', 'agent')\n",
    "    .addNode('tools', toolNode)\n",
    "    .addEdge('tools', 'agent')\n",
    "    .addConditionalEdges('agent', shouldContinue)\n",
    "\n",
    "const app = workflow.compile()\n"
   ]
  },
  {
   "cell_type": "code",
   "execution_count": null,
   "metadata": {},
   "outputs": [],
   "source": [
    "import { printGraph } from './../../utils.mjs'\n",
    "await printGraph(app.getGraph())"
   ]
  },
  {
   "cell_type": "code",
   "execution_count": null,
   "metadata": {},
   "outputs": [],
   "source": [
    "// Use the agent\n",
    "const finalState = await app.invoke({\n",
    "    messages: [new HumanMessage(\"what is the weather in sf\")],\n",
    "});\n",
    "console.log(finalState.messages[finalState.messages.length - 1].content);\n",
    "\n",
    "const nextState = await app.invoke({\n",
    "    // Including the messages from the previous run gives the LLM context.\n",
    "    // This way it knows we're asking about the weather in NY\n",
    "    messages: [...finalState.messages, new HumanMessage(\"what about ny\")],\n",
    "});\n",
    "console.log(nextState.messages[nextState.messages.length - 1].content);"
   ]
  }
 ],
 "metadata": {
  "kernelspec": {
   "display_name": "Deno",
   "language": "typescript",
   "name": "deno"
  },
  "language_info": {
   "codemirror_mode": "typescript",
   "file_extension": ".ts",
   "mimetype": "text/x.typescript",
   "name": "typescript",
   "nbconvert_exporter": "script",
   "pygments_lexer": "typescript",
   "version": "5.6.2"
  }
 },
 "nbformat": 4,
 "nbformat_minor": 2
}
