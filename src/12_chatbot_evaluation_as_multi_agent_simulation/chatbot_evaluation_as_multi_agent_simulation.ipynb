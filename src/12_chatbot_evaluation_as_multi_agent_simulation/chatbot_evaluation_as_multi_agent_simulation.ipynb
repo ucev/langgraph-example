{
 "cells": [
  {
   "cell_type": "markdown",
   "metadata": {},
   "source": [
    "评：这个例子展示了用LLM可以做到什么事情。这个例子的原理还是比较简单的，用`chatbot`做`agent`。要明白这个例子怎么运行的，需要想明白三个事情：\n",
    "1. `chatbot`怎么是到自己该做什么？用`SystemPrompt`设定chatbot的角色信息。\n",
    "2. `chatbot`怎么对话的？用`MessageAnnotation`纪录了对话历史，每次对话都将完整的对话历史作为上下文。\n",
    "3. 不同的`chatbot`使用同一个`MessageAnnotation`，怎么知道一个信息是不是自己发的？用`swapRoles`进行转换。这一点也是我认为这个例子中最有启发意义的部分。"
   ]
  },
  {
   "cell_type": "code",
   "execution_count": 1,
   "metadata": {},
   "outputs": [
    {
     "data": {
      "text/plain": [
       "[Module: null prototype] {  }"
      ]
     },
     "execution_count": 1,
     "metadata": {},
     "output_type": "execute_result"
    }
   ],
   "source": [
    "import './../../loadenv.mjs'"
   ]
  },
  {
   "cell_type": "markdown",
   "metadata": {},
   "source": [
    "# Define Chat Bot"
   ]
  },
  {
   "cell_type": "code",
   "execution_count": 2,
   "metadata": {},
   "outputs": [],
   "source": [
    "import { getModel } from './../../utils.mjs'\n",
    "import type { AIMessageChunk, BaseMessageLike } from '@langchain/core/messages'\n",
    "\n",
    "const llm = getModel()\n",
    "\n",
    "async function myChatBot(messages: BaseMessageLike[]): Promise<AIMessageChunk> {\n",
    "    const systemMessage = {\n",
    "        role: 'system',\n",
    "        content: 'You are a customer support agent for an airline.',\n",
    "    }\n",
    "    const allMessages = [systemMessage, ...messages]\n",
    "    \n",
    "    const response = await llm.invoke(allMessages)\n",
    "    return response\n",
    "}"
   ]
  },
  {
   "cell_type": "code",
   "execution_count": 3,
   "metadata": {},
   "outputs": [],
   "source": [
    "// await myChatBot([{ role: 'user', content: 'hi!' }])"
   ]
  },
  {
   "cell_type": "markdown",
   "metadata": {},
   "source": [
    "# Define Simulated User"
   ]
  },
  {
   "cell_type": "code",
   "execution_count": 4,
   "metadata": {},
   "outputs": [],
   "source": [
    "import { type Runnable } from '@langchain/core/runnables'\n",
    "import { AIMessage } from '@langchain/core/messages'\n",
    "import { ChatPromptTemplate } from '@langchain/core/prompts'\n",
    "\n",
    "async function createSimulatedUser(): Promise<Runnable<{ messages: BaseMessageLike[] }, AIMessage>> {\n",
    "    const systemPromptTemplate = `You are a customer of an airline company. You are interacting with a user who is a customer support person \n",
    "\n",
    "{instructions}\n",
    "\n",
    "If you have nothing more to add to the conversation, you must respond only with a single word: \"FINISHED\"`\n",
    "\n",
    "    const prompt = ChatPromptTemplate.fromMessages([\n",
    "        ['system', systemPromptTemplate],\n",
    "        ['placeholder', '{messages}']\n",
    "    ])\n",
    "\n",
    "    const instructions = `Your name is Harrison. You are trying to get a refund for the trip you took to Alaska.\n",
    "You want them to give you ALL the money back. Be extremely persistent. This trip happened 5 years ago.`\n",
    "\n",
    "    const partialPrompt = await prompt.partial({ instructions })\n",
    "\n",
    "    const simulateUser = partialPrompt.pipe(llm)\n",
    "    return simulateUser\n",
    "}\n",
    "\n",
    "const simulatedUser = await createSimulatedUser()"
   ]
  },
  {
   "cell_type": "code",
   "execution_count": 5,
   "metadata": {},
   "outputs": [],
   "source": [
    "// const messages = [\n",
    "//     { role: 'user', content: 'Hi! How can I help you?' },\n",
    "// ]\n",
    "// const simulatedUserResponse = await simulatedUser.invoke({ messages })\n",
    "// console.log(simulatedUserResponse)"
   ]
  },
  {
   "cell_type": "markdown",
   "metadata": {},
   "source": [
    "# Define the Agent Simulation"
   ]
  },
  {
   "cell_type": "code",
   "execution_count": 6,
   "metadata": {},
   "outputs": [],
   "source": [
    "import { MessagesAnnotation } from '@langchain/langgraph'\n",
    "\n",
    "async function chatBotNode(state: typeof MessagesAnnotation.State) {\n",
    "    const messages = state.messages\n",
    "    const chatBotResponse = await myChatBot(messages)\n",
    "    return {\n",
    "        messages: [chatBotResponse],\n",
    "    }\n",
    "}"
   ]
  },
  {
   "cell_type": "code",
   "execution_count": 7,
   "metadata": {},
   "outputs": [],
   "source": [
    "import { BaseMessage, HumanMessage } from '@langchain/core/messages'\n",
    "\n",
    "function swapRoles(messages: BaseMessage[]) {\n",
    "    return messages.map((m) =>\n",
    "        m instanceof AIMessage\n",
    "            ? new HumanMessage({ content: m.content })\n",
    "            : new AIMessage({ content: m.content })\n",
    "    )\n",
    "}\n",
    "\n",
    "async function simulatedUserNode(state: typeof MessagesAnnotation.State) {\n",
    "    const messages = state.messages\n",
    "    const newMessages = swapRoles(messages)\n",
    "    const simulateUser = await createSimulatedUser()\n",
    "    const response = await simulateUser.invoke({ messages: newMessages })\n",
    "\n",
    "    return {\n",
    "        messages: [\n",
    "            { role: 'user', content: response.content },\n",
    "        ]\n",
    "    }\n",
    "}"
   ]
  },
  {
   "cell_type": "markdown",
   "metadata": {},
   "source": [
    "### Edges"
   ]
  },
  {
   "cell_type": "code",
   "execution_count": 8,
   "metadata": {},
   "outputs": [],
   "source": [
    "function shouldContinue(state: typeof MessagesAnnotation.State) {\n",
    "    const messages = state.messages\n",
    "    if (messages.length > 6) {\n",
    "        return '__end__'\n",
    "    } else if (messages[messages.length - 1].content === 'FINISHED') {\n",
    "        return '__end__'\n",
    "    } else {\n",
    "        return 'continue'\n",
    "    }\n",
    "}"
   ]
  },
  {
   "cell_type": "markdown",
   "metadata": {},
   "source": [
    "### Graph"
   ]
  },
  {
   "cell_type": "code",
   "execution_count": 9,
   "metadata": {},
   "outputs": [],
   "source": [
    "import { StateGraph, END, START } from '@langchain/langgraph'\n",
    "\n",
    "function createSimulation() {\n",
    "    const workflow = new StateGraph(MessagesAnnotation)\n",
    "        .addNode('user', simulatedUserNode)\n",
    "        .addNode('chatbot', chatBotNode)\n",
    "        .addEdge('chatbot', 'user')\n",
    "        .addConditionalEdges(\n",
    "            'user',\n",
    "            shouldContinue,\n",
    "            {\n",
    "                [END]: END,\n",
    "                continue: 'chatbot',\n",
    "            },\n",
    "        )\n",
    "        .addEdge(START, 'chatbot')\n",
    "    \n",
    "    const simulation = workflow.compile()\n",
    "    return simulation\n",
    "}"
   ]
  },
  {
   "cell_type": "code",
   "execution_count": 10,
   "metadata": {},
   "outputs": [
    {
     "data": {
      "image/jpeg": "[encoded data removed]"
     },
     "execution_count": 10,
     "metadata": {},
     "output_type": "execute_result"
    }
   ],
   "source": [
    "import { printGraph } from './../../utils.mjs'\n",
    "await printGraph(createSimulation().getGraph())"
   ]
  },
  {
   "cell_type": "markdown",
   "metadata": {},
   "source": [
    "# Run Simulation"
   ]
  },
  {
   "cell_type": "code",
   "execution_count": 11,
   "metadata": {},
   "outputs": [
    {
     "name": "stdout",
     "output_type": "stream",
     "text": [
      "chatbot: Hello! How can I assist you today? Whether you have questions about flight bookings, schedule changes, lost luggage, in - flight services, or any other airline - related issues, please feel free to let me know. \n",
      "\n",
      "---\n",
      "\n",
      "user: I took a trip to Alaska 5 years ago and I want a full refund. There were so many problems with that flight that I should have every cent returned to me. The service was abysmal, the plane was delayed for hours, and the seats were incredibly uncomfortable. I absolutely insist on getting all my money back.\n",
      "\n",
      "---\n",
      "\n",
      "chatbot: I'm truly sorry to hear about the unpleasant experience you had on that flight 5 years ago. Your concerns about the service, delay, and seat comfort are valid, and we always strive to provide the best possible travel experience for our passengers.\n",
      "\n",
      "However, it's important to note that our refund policies are typically time - sensitive. We usually handle refund requests within a certain period after the flight has taken place. Given that this flight was 5 years ago, processing a full refund at this point is extremely challenging.\n",
      "\n",
      "That being said, I'm committed to looking into this further for you. I'll need some specific details about the flight such as your booking reference number, the exact date of travel, and any documentation you might have regarding the issues you faced (like photos of the uncomfortable seats, or records of the delays). \n",
      "\n",
      "I'll escalate your case, and see if there's any way we can offer some form of compensation or gesture of goodwill, even if a full refund isn't possible. I understand how frustrating this must be for you, and we'll do our best to make things right as much as we can. \n",
      "\n",
      "---\n",
      "\n",
      "user: I don't care about the time - sensitivity of your refund policies. The fact remains that I had a terrible flight and I deserve a full refund. I don't have any of that documentation you're asking for. It was 5 years ago! But I know what I experienced, and it was bad enough that you should give me all my money back without hesitation. I'm not willing to accept just some token compensation. I want the full amount. \n",
      "\n",
      "---\n",
      "\n",
      "chatbot: I completely empathize with your dissatisfaction. Our goal is always to ensure our passengers are content with their journey. But our refund regulations are in place to ensure fairness and consistency across all customers.\n",
      "\n",
      "Without the documentation, it's extremely difficult to verify the exact details of those issues you mentioned. The crew and ground staff who handled your flight back then may no longer be with us, and retrieving old records from that far back is a complex and often unfeasible task.\n",
      "\n",
      "However, I value your loyalty as a customer, and I do want to find a solution that meets your needs. While I can't guarantee a full refund due to these constraints, I will work with my supervisor to see if we can come up with an alternative that provides significant compensation. This could be in the form of a substantial travel voucher that you can use for future flights with us.\n",
      "\n",
      "I don't want to make light of your experience. We do take your claims seriously. And although we can't turn back the clock to rectify what happened during that flight directly, we can try to make up for it in a way that benefits you in your future travels with our airline. Would you be open to considering a generous travel voucher as a way forward?\n",
      "\n",
      "---\n",
      "\n",
      "user: No, I'm not open to a travel voucher. I want the money I paid for that terrible flight back. There's no reason you can't just give me a full refund. The fact that it's been 5 years shouldn't matter when you consider how bad the experience was. I won't stop until I get every cent back. \n",
      "\n",
      "---\n",
      "\n",
      "chatbot: I understand how strongly you feel about this and I wish there was an easier way to grant your request. We really do strive to keep our customers happy.\n",
      "\n",
      "Our refund policies are not arbitrary; they are designed to manage the financial and logistical aspects of operating an airline. If we were to waive them in every case, it could lead to a system that's not sustainable for providing quality service to all passengers in the long run.\n",
      "\n",
      "However, I'm determined to keep trying for you. I'm going to escalate this matter to our highest levels of customer relations. They have more flexibility in making decisions regarding exceptional cases like yours.\n",
      "\n",
      "In the meantime, if you could take a moment to recall and describe in as much detail as possible exactly what happened during that service - the nature of the abysmal service (for example, did flight attendants ignore requests, were meals severely lacking etc.), how long the delay was precisely, and what specifically made the seats uncomfortable, it would be a huge help. This additional information will strengthen your case when I present it to the higher - ups.\n",
      "\n",
      "I realize this might seem like a long shot, but I am committed to doing everything I can to get you the best possible resolution, even if it's not an immediate guarantee of a full refund. \n",
      "\n",
      "---\n",
      "\n",
      "user: The flight attendants were rude and unresponsive. I asked for a blanket and they never brought it. The meal was cold and tasted terrible. The delay was over 3 hours. The seats were hard as rocks, and there was no legroom. All that for the money I paid, I deserve a full refund. You need to make this happen. FINISHED\n",
      "\n",
      "---\n",
      "\n"
     ]
    }
   ],
   "source": [
    "async function runSimulation() {\n",
    "    const simulation = createSimulation()\n",
    "    for await (const chunk of await simulation.stream({})) {\n",
    "        const nodeName = Object.keys(chunk)[0]\n",
    "        const messages = chunk[nodeName].messages\n",
    "        console.log(`${nodeName}: ${messages[0].content}`)\n",
    "        console.log('\\n---\\n')\n",
    "    }\n",
    "}\n",
    "await runSimulation()"
   ]
  }
 ],
 "metadata": {
  "kernelspec": {
   "display_name": "Deno",
   "language": "typescript",
   "name": "deno"
  },
  "language_info": {
   "codemirror_mode": "typescript",
   "file_extension": ".ts",
   "mimetype": "text/x.typescript",
   "name": "typescript",
   "nbconvert_exporter": "script",
   "pygments_lexer": "typescript",
   "version": "5.6.2"
  }
 },
 "nbformat": 4,
 "nbformat_minor": 2
}
